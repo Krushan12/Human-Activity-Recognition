{
 "cells": [
  {
   "cell_type": "code",
   "execution_count": 2,
   "metadata": {},
   "outputs": [],
   "source": [
    "import tsfel \n",
    "import numpy as np\n",
    "import pandas as pd\n"
   ]
  },
  {
   "cell_type": "code",
   "execution_count": 5,
   "metadata": {},
   "outputs": [
    {
     "data": {
      "text/html": [
       "\n",
       "              <p>\n",
       "                  Progress: 100% Complete\n",
       "              <p/>\n",
       "              <progress\n",
       "                  value='7352'\n",
       "                  max='7352',\n",
       "                  style='width: 25%',\n",
       "              >\n",
       "                  7352\n",
       "              </progress>\n",
       "\n",
       "    "
      ],
      "text/plain": [
       "<IPython.core.display.HTML object>"
      ]
     },
     "metadata": {},
     "output_type": "display_data"
    },
    {
     "name": "stderr",
     "output_type": "stream",
     "text": [
      "/home/harshal/env/lib/python3.12/site-packages/tsfel/feature_extraction/features.py:498: FutureWarning: The histogram feature was deprecated in version 0.1.8 and will be replaced by the mode of histogram in 0.1.9. From then on, only a single feature value will be returned.\n",
      "  warnings.warn(\n",
      "/home/harshal/env/lib/python3.12/site-packages/tsfel/feature_extraction/features.py:498: FutureWarning: The histogram feature was deprecated in version 0.1.8 and will be replaced by the mode of histogram in 0.1.9. From then on, only a single feature value will be returned.\n",
      "  warnings.warn(\n",
      "/home/harshal/env/lib/python3.12/site-packages/tsfel/feature_extraction/features.py:498: FutureWarning: The histogram feature was deprecated in version 0.1.8 and will be replaced by the mode of histogram in 0.1.9. From then on, only a single feature value will be returned.\n",
      "  warnings.warn(\n",
      "/home/harshal/env/lib/python3.12/site-packages/tsfel/feature_extraction/features.py:498: FutureWarning: The histogram feature was deprecated in version 0.1.8 and will be replaced by the mode of histogram in 0.1.9. From then on, only a single feature value will be returned.\n",
      "  warnings.warn(\n",
      "/home/harshal/env/lib/python3.12/site-packages/tsfel/feature_extraction/features.py:498: FutureWarning: The histogram feature was deprecated in version 0.1.8 and will be replaced by the mode of histogram in 0.1.9. From then on, only a single feature value will be returned.\n",
      "  warnings.warn(\n",
      "/home/harshal/env/lib/python3.12/site-packages/tsfel/feature_extraction/features.py:498: FutureWarning: The histogram feature was deprecated in version 0.1.8 and will be replaced by the mode of histogram in 0.1.9. From then on, only a single feature value will be returned.\n",
      "  warnings.warn(\n",
      "/home/harshal/env/lib/python3.12/site-packages/tsfel/feature_extraction/features.py:498: FutureWarning: The histogram feature was deprecated in version 0.1.8 and will be replaced by the mode of histogram in 0.1.9. From then on, only a single feature value will be returned.\n",
      "  warnings.warn(\n",
      "/home/harshal/env/lib/python3.12/site-packages/tsfel/feature_extraction/features.py:498: FutureWarning: The histogram feature was deprecated in version 0.1.8 and will be replaced by the mode of histogram in 0.1.9. From then on, only a single feature value will be returned.\n",
      "  warnings.warn(\n",
      "/home/harshal/env/lib/python3.12/site-packages/tsfel/feature_extraction/features.py:498: FutureWarning: The histogram feature was deprecated in version 0.1.8 and will be replaced by the mode of histogram in 0.1.9. From then on, only a single feature value will be returned.\n",
      "  warnings.warn(\n",
      "/home/harshal/env/lib/python3.12/site-packages/tsfel/feature_extraction/features.py:498: FutureWarning: The histogram feature was deprecated in version 0.1.8 and will be replaced by the mode of histogram in 0.1.9. From then on, only a single feature value will be returned.\n",
      "  warnings.warn(\n",
      "/home/harshal/env/lib/python3.12/site-packages/tsfel/feature_extraction/features.py:498: FutureWarning: The histogram feature was deprecated in version 0.1.8 and will be replaced by the mode of histogram in 0.1.9. From then on, only a single feature value will be returned.\n",
      "  warnings.warn(\n",
      "/home/harshal/env/lib/python3.12/site-packages/tsfel/feature_extraction/features.py:498: FutureWarning: The histogram feature was deprecated in version 0.1.8 and will be replaced by the mode of histogram in 0.1.9. From then on, only a single feature value will be returned.\n",
      "  warnings.warn(\n",
      "/home/harshal/env/lib/python3.12/site-packages/tsfel/feature_extraction/features.py:498: FutureWarning: The histogram feature was deprecated in version 0.1.8 and will be replaced by the mode of histogram in 0.1.9. From then on, only a single feature value will be returned.\n",
      "  warnings.warn(\n",
      "/home/harshal/env/lib/python3.12/site-packages/tsfel/feature_extraction/features.py:498: FutureWarning: The histogram feature was deprecated in version 0.1.8 and will be replaced by the mode of histogram in 0.1.9. From then on, only a single feature value will be returned.\n",
      "  warnings.warn(\n",
      "/home/harshal/env/lib/python3.12/site-packages/tsfel/feature_extraction/features.py:498: FutureWarning: The histogram feature was deprecated in version 0.1.8 and will be replaced by the mode of histogram in 0.1.9. From then on, only a single feature value will be returned.\n",
      "  warnings.warn(\n",
      "/home/harshal/env/lib/python3.12/site-packages/tsfel/feature_extraction/features.py:498: FutureWarning: The histogram feature was deprecated in version 0.1.8 and will be replaced by the mode of histogram in 0.1.9. From then on, only a single feature value will be returned.\n",
      "  warnings.warn(\n"
     ]
    },
    {
     "data": {
      "text/html": [
       "\n",
       "              <p>\n",
       "                  Progress: 100% Complete\n",
       "              <p/>\n",
       "              <progress\n",
       "                  value='2947'\n",
       "                  max='2947',\n",
       "                  style='width: 25%',\n",
       "              >\n",
       "                  2947\n",
       "              </progress>\n",
       "\n",
       "    "
      ],
      "text/plain": [
       "<IPython.core.display.HTML object>"
      ]
     },
     "metadata": {},
     "output_type": "display_data"
    },
    {
     "name": "stderr",
     "output_type": "stream",
     "text": [
      "/home/harshal/env/lib/python3.12/site-packages/tsfel/feature_extraction/features.py:498: FutureWarning: The histogram feature was deprecated in version 0.1.8 and will be replaced by the mode of histogram in 0.1.9. From then on, only a single feature value will be returned.\n",
      "  warnings.warn(\n",
      "/home/harshal/env/lib/python3.12/site-packages/tsfel/feature_extraction/features.py:498: FutureWarning: The histogram feature was deprecated in version 0.1.8 and will be replaced by the mode of histogram in 0.1.9. From then on, only a single feature value will be returned.\n",
      "  warnings.warn(\n",
      "/home/harshal/env/lib/python3.12/site-packages/tsfel/feature_extraction/features.py:498: FutureWarning: The histogram feature was deprecated in version 0.1.8 and will be replaced by the mode of histogram in 0.1.9. From then on, only a single feature value will be returned.\n",
      "  warnings.warn(\n",
      "/home/harshal/env/lib/python3.12/site-packages/tsfel/feature_extraction/features.py:498: FutureWarning: The histogram feature was deprecated in version 0.1.8 and will be replaced by the mode of histogram in 0.1.9. From then on, only a single feature value will be returned.\n",
      "  warnings.warn(\n",
      "/home/harshal/env/lib/python3.12/site-packages/tsfel/feature_extraction/features.py:498: FutureWarning: The histogram feature was deprecated in version 0.1.8 and will be replaced by the mode of histogram in 0.1.9. From then on, only a single feature value will be returned.\n",
      "  warnings.warn(\n",
      "/home/harshal/env/lib/python3.12/site-packages/tsfel/feature_extraction/features.py:498: FutureWarning: The histogram feature was deprecated in version 0.1.8 and will be replaced by the mode of histogram in 0.1.9. From then on, only a single feature value will be returned.\n",
      "  warnings.warn(\n",
      "/home/harshal/env/lib/python3.12/site-packages/tsfel/feature_extraction/features.py:498: FutureWarning: The histogram feature was deprecated in version 0.1.8 and will be replaced by the mode of histogram in 0.1.9. From then on, only a single feature value will be returned.\n",
      "  warnings.warn(\n",
      "/home/harshal/env/lib/python3.12/site-packages/tsfel/feature_extraction/features.py:498: FutureWarning: The histogram feature was deprecated in version 0.1.8 and will be replaced by the mode of histogram in 0.1.9. From then on, only a single feature value will be returned.\n",
      "  warnings.warn(\n",
      "/home/harshal/env/lib/python3.12/site-packages/tsfel/feature_extraction/features.py:498: FutureWarning: The histogram feature was deprecated in version 0.1.8 and will be replaced by the mode of histogram in 0.1.9. From then on, only a single feature value will be returned.\n",
      "  warnings.warn(\n",
      "/home/harshal/env/lib/python3.12/site-packages/tsfel/feature_extraction/features.py:498: FutureWarning: The histogram feature was deprecated in version 0.1.8 and will be replaced by the mode of histogram in 0.1.9. From then on, only a single feature value will be returned.\n",
      "  warnings.warn(\n",
      "/home/harshal/env/lib/python3.12/site-packages/tsfel/feature_extraction/features.py:498: FutureWarning: The histogram feature was deprecated in version 0.1.8 and will be replaced by the mode of histogram in 0.1.9. From then on, only a single feature value will be returned.\n",
      "  warnings.warn(\n",
      "/home/harshal/env/lib/python3.12/site-packages/tsfel/feature_extraction/features.py:498: FutureWarning: The histogram feature was deprecated in version 0.1.8 and will be replaced by the mode of histogram in 0.1.9. From then on, only a single feature value will be returned.\n",
      "  warnings.warn(\n",
      "/home/harshal/env/lib/python3.12/site-packages/tsfel/feature_extraction/features.py:498: FutureWarning: The histogram feature was deprecated in version 0.1.8 and will be replaced by the mode of histogram in 0.1.9. From then on, only a single feature value will be returned.\n",
      "  warnings.warn(\n",
      "/home/harshal/env/lib/python3.12/site-packages/tsfel/feature_extraction/features.py:498: FutureWarning: The histogram feature was deprecated in version 0.1.8 and will be replaced by the mode of histogram in 0.1.9. From then on, only a single feature value will be returned.\n",
      "  warnings.warn(\n",
      "/home/harshal/env/lib/python3.12/site-packages/tsfel/feature_extraction/features.py:498: FutureWarning: The histogram feature was deprecated in version 0.1.8 and will be replaced by the mode of histogram in 0.1.9. From then on, only a single feature value will be returned.\n",
      "  warnings.warn(\n",
      "/home/harshal/env/lib/python3.12/site-packages/tsfel/feature_extraction/features.py:498: FutureWarning: The histogram feature was deprecated in version 0.1.8 and will be replaced by the mode of histogram in 0.1.9. From then on, only a single feature value will be returned.\n",
      "  warnings.warn(\n"
     ]
    }
   ],
   "source": [
    "# Load data\n",
    "x_train_sig = list(np.loadtxt(\"HAR/UCI HAR Dataset/train/Inertial Signals/total_acc_x_train.txt\", dtype=\"float32\"))\n",
    "x_test_sig = list(np.loadtxt(\"HAR/UCI HAR Dataset/test/Inertial Signals/total_acc_x_test.txt\", dtype=\"float32\"))\n",
    "y_test = np.loadtxt(\"HAR/UCI HAR Dataset/test/y_test.txt\")\n",
    "y_train = np.loadtxt(\"HAR/UCI HAR Dataset/train/y_train.txt\")\n",
    "activity_labels = np.array(pd.read_csv(\"HAR/UCI HAR Dataset/activity_labels.txt\", header=None, delimiter=\" \"))[:, 1]\n",
    "\n",
    "# dataset sampling frequency\n",
    "fs = 50\n",
    "\n",
    "cfg_file = tsfel.get_features_by_domain() \n",
    "# Get features\n",
    "X_train = tsfel.time_series_features_extractor(cfg_file, x_train_sig, fs=fs)\n",
    "X_test = tsfel.time_series_features_extractor(cfg_file, x_test_sig, fs=fs)"
   ]
  },
  {
   "cell_type": "code",
   "execution_count": 10,
   "metadata": {},
   "outputs": [],
   "source": [
    "from sklearn.feature_selection import VarianceThreshold \n",
    "from sklearn import preprocessing\n",
    "# Highly correlated features are removed\n",
    "corr_features = tsfel.correlated_features(X_train)\n",
    "X_train.drop(corr_features, axis=1, inplace=True)\n",
    "X_test.drop(corr_features, axis=1, inplace=True)\n",
    "\n",
    "# Remove low variance features\n",
    "selector = VarianceThreshold()\n",
    "X_train = selector.fit_transform(X_train)\n",
    "X_test = selector.transform(X_test)\n",
    "\n",
    "# Normalising Features\n",
    "scaler = preprocessing.StandardScaler()\n",
    "nX_train = scaler.fit_transform(X_train)\n",
    "nX_test = scaler.transform(X_test)\n",
    "\n"
   ]
  },
  {
   "cell_type": "code",
   "execution_count": 11,
   "metadata": {},
   "outputs": [],
   "source": [
    "\n",
    "# Save featureized data to CSV\n",
    "pd.DataFrame(X_train).to_csv(\"X_train_features.csv\", index=False)\n",
    "pd.DataFrame(X_test).to_csv(\"X_test_features.csv\", index=False)\n"
   ]
  }
 ],
 "metadata": {
  "kernelspec": {
   "display_name": "env",
   "language": "python",
   "name": "python3"
  },
  "language_info": {
   "codemirror_mode": {
    "name": "ipython",
    "version": 3
   },
   "file_extension": ".py",
   "mimetype": "text/x-python",
   "name": "python",
   "nbconvert_exporter": "python",
   "pygments_lexer": "ipython3",
   "version": "3.12.3"
  }
 },
 "nbformat": 4,
 "nbformat_minor": 2
}
